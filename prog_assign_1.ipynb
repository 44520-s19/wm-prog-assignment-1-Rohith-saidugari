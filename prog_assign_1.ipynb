{
 "cells": [
  {
   "cell_type": "markdown",
   "metadata": {},
   "source": [
    "# Web Mining Programming Assignment 1\n",
    "\n",
    "## Python Basics\n",
    "\n",
    "### Rohit Saidugari:\n",
    "\n",
    "In this assignment you will be writing several small snippets of Python to solve individual problems.  Unless otherwise specified, you should put your work in the integrated Code cells in this document.\n",
    "\n",
    "1. Type your name on the line that says \"Student Name\"\n",
    "\n",
    "2. Write Python code that divides two numbers, stores the result in a variable and prints the result with an appropriate label."
   ]
  },
  {
   "cell_type": "code",
   "execution_count": 5,
   "metadata": {},
   "outputs": [
    {
     "name": "stdout",
     "output_type": "stream",
     "text": [
      "Division of  100 and 10 is 10\n"
     ]
    }
   ],
   "source": [
    "variable1=10\n",
    "variable2= 100\n",
    "variable3=variable2//variable1\n",
    "print(\"Division of \",variable2,\"and\", variable1, \"is\" ,variable3)"
   ]
  },
  {
   "cell_type": "markdown",
   "metadata": {},
   "source": [
    "3. Using loops (and potentially conditionals), write Python code that prints the factorial of each integer from 1 through 10 (which you can store in a variable if you want).  The factorial of an integer is the product of all of the integers of 1 through the number.  Print the result."
   ]
  },
  {
   "cell_type": "code",
   "execution_count": 6,
   "metadata": {},
   "outputs": [
    {
     "name": "stdout",
     "output_type": "stream",
     "text": [
      "1\n",
      "2\n",
      "6\n",
      "24\n",
      "120\n",
      "720\n",
      "5040\n",
      "40320\n",
      "362880\n",
      "3628800\n"
     ]
    }
   ],
   "source": [
    "def factorial(number):\n",
    "    if number==0 :\n",
    "         return 1;\n",
    "    else :\n",
    "        return number*factorial(number-1)\n",
    "for variable in range(1,11):\n",
    "    print(factorial(variable))"
   ]
  },
  {
   "cell_type": "markdown",
   "metadata": {},
   "source": [
    "4. Create a new Jupyter Notebook (the name of the notebook should be your S number).  Add a Markdown cell that contains your name.  Add a Code cell and write Python that uses loops to draw the following pattern:\n",
    "\n",
    "```python\n",
    "#      #\n",
    "##    ##\n",
    "###  ###\n",
    "########\n",
    "```\n",
    "\n",
    "Submit both this notebook and your new notebook to your repository."
   ]
  },
  {
   "cell_type": "code",
   "execution_count": null,
   "metadata": {},
   "outputs": [],
   "source": []
  }
 ],
 "metadata": {
  "kernelspec": {
   "display_name": "Python 3",
   "language": "python",
   "name": "python3"
  },
  "language_info": {
   "codemirror_mode": {
    "name": "ipython",
    "version": 3
   },
   "file_extension": ".py",
   "mimetype": "text/x-python",
   "name": "python",
   "nbconvert_exporter": "python",
   "pygments_lexer": "ipython3",
   "version": "3.7.3"
  }
 },
 "nbformat": 4,
 "nbformat_minor": 2
}
